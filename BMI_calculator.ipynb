#bmi
{
 "cells": [
  {
   "cell_type": "markdown",
   "id": "cce74e8f",
   "metadata": {},
   "source": [
    "# BMI CALCULATOR"
   ]
  },
  {
   "cell_type": "code",
   "execution_count": null,
   "id": "2922fd2f",
   "metadata": {},
   "outputs": [],
   "source": [
    "'''\n",
    "# BMI calculator\n",
    "\n",
    "In this project, we are going to write a python program to calculate the BMI.\n",
    "\n",
    "Measurements:\n",
    "Weight(Kgs)\n",
    "Height(m)\n",
    "\n",
    "BMI = Weight/(Height * Height)\n",
    "\n",
    "We will use the BMI to determine whether the user is Overweight, Normal, or underweight.\n",
    "'''"
   ]
  },
  {
   "cell_type": "code",
   "execution_count": 1,
   "id": "768adbbd",
   "metadata": {},
   "outputs": [
    {
     "name": "stdout",
     "output_type": "stream",
     "text": [
      "What is your name: elsia\n",
      "What is your body weight in Kilograms:112\n",
      " What is your height in Metres:1.9\n",
      "elsia Your BMI is: 31.02 rated overweight\n"
     ]
    }
   ],
   "source": [
    "name = input('What is your name: ')\n",
    "weight = float(input('What is your body weight in Kilograms:'))\n",
    "height = float(input(' What is your height in Metres:'))\n",
    "BMI = round(weight/(height*height), 2)\n",
    "# BMI categorization\n",
    "if BMI > 25:\n",
    "    print(f'{name} Your BMI is: {BMI} rated overweight')\n",
    "elif 18 < BMI < 25:\n",
    "    print(f' {name} Your BMI is: {BMI} rated Normal Weight')\n",
    "else:\n",
    "    print(f' {name} Your BMI is: {BMI} rated Under Weight')"
   ]
  },
  {
   "cell_type": "code",
   "execution_count": null,
   "id": "102a1cf6",
   "metadata": {},
   "outputs": [],
   "source": []
  }
 ],
 "metadata": {
  "kernelspec": {
   "display_name": "Python 3 (ipykernel)",
   "language": "python",
   "name": "python3"
  },
  "language_info": {
   "codemirror_mode": {
    "name": "ipython",
    "version": 3
   },
   "file_extension": ".py",
   "mimetype": "text/x-python",
   "name": "python",
   "nbconvert_exporter": "python",
   "pygments_lexer": "ipython3",
   "version": "3.12.3"
  }
 },
 "nbformat": 4,
 "nbformat_minor": 5
}
